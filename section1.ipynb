{
  "nbformat": 4,
  "nbformat_minor": 0,
  "metadata": {
    "colab": {
      "provenance": [],
      "authorship_tag": "ABX9TyM37zQXnceY3/oKZqhNzQXb",
      "include_colab_link": true
    },
    "kernelspec": {
      "name": "python3",
      "display_name": "Python 3"
    },
    "language_info": {
      "name": "python"
    },
    "accelerator": "TPU",
    "gpuClass": "standard"
  },
  "cells": [
    {
      "cell_type": "markdown",
      "metadata": {
        "id": "view-in-github",
        "colab_type": "text"
      },
      "source": [
        "<a href=\"https://colab.research.google.com/github/elshafee/AI_corse_codes/blob/main/section1.ipynb\" target=\"_parent\"><img src=\"https://colab.research.google.com/assets/colab-badge.svg\" alt=\"Open In Colab\"/></a>"
      ]
    },
    {
      "cell_type": "markdown",
      "source": [
        "**Introduction to python**\n"
      ],
      "metadata": {
        "id": "EtNbB92t56Gc"
      }
    },
    {
      "cell_type": "code",
      "execution_count": 1,
      "metadata": {
        "colab": {
          "base_uri": "https://localhost:8080/"
        },
        "id": "AHsi_bME5LTB",
        "outputId": "2f574203-6fe8-449f-e0d9-69caeca7f09e"
      },
      "outputs": [
        {
          "output_type": "stream",
          "name": "stdout",
          "text": [
            "4\n"
          ]
        }
      ],
      "source": [
        "# print is a function to get the output in terminal\n",
        "a =  4\n",
        "print(a) "
      ]
    },
    {
      "cell_type": "code",
      "source": [
        "# type() is a function to know what's the variable data type\n",
        "print(type(a))"
      ],
      "metadata": {
        "colab": {
          "base_uri": "https://localhost:8080/"
        },
        "id": "uXIV1oql5v9U",
        "outputId": "822f5c1a-ac2e-42e6-9c20-2f24df306394"
      },
      "execution_count": 2,
      "outputs": [
        {
          "output_type": "stream",
          "name": "stdout",
          "text": [
            "<class 'int'>\n"
          ]
        }
      ]
    },
    {
      "cell_type": "code",
      "source": [
        "x = \"text\"\n",
        "# python is case sensitive "
      ],
      "metadata": {
        "id": "YRUwOvZi6J6U"
      },
      "execution_count": 3,
      "outputs": []
    },
    {
      "cell_type": "code",
      "source": [
        "x,y,z = 10,20,30\n",
        "print(x,y,z)"
      ],
      "metadata": {
        "colab": {
          "base_uri": "https://localhost:8080/"
        },
        "id": "aR2v-xKu6f2u",
        "outputId": "1f48cf3f-ca66-4ffc-ac64-629127a24379"
      },
      "execution_count": 4,
      "outputs": [
        {
          "output_type": "stream",
          "name": "stdout",
          "text": [
            "10 20 30\n"
          ]
        }
      ]
    },
    {
      "cell_type": "markdown",
      "source": [
        "Data Types"
      ],
      "metadata": {
        "id": "dLzSNlL_7ldr"
      }
    },
    {
      "cell_type": "code",
      "source": [
        "# string -> str\n",
        "# integer -> int\n",
        "# Float\n",
        "# boolean -> bool\n",
        "# Complex  'for imaginary and real parts'.         x = 3 +5j\n",
        "# List\n",
        "# Tuple\n",
        "# Set\n",
        "# Dictionary-> dict"
      ],
      "metadata": {
        "id": "aL5XMhnx7I9B"
      },
      "execution_count": null,
      "outputs": []
    },
    {
      "cell_type": "markdown",
      "source": [
        "**Arithmetic operations**"
      ],
      "metadata": {
        "id": "I6YeHDm48QjX"
      }
    },
    {
      "cell_type": "code",
      "source": [
        "a = 20\n",
        "b = 10\n",
        "print(a + b) # addition \n",
        "print(a -b) #subtraction \n",
        "print(a/b) #division \n",
        "print(a%b) # will return the out of the division\n",
        "print(a//b) #will return the result of division as integer by ignoring the float part\n",
        "print(a**b) # as a power b \"a^b\""
      ],
      "metadata": {
        "colab": {
          "base_uri": "https://localhost:8080/"
        },
        "id": "OYxda4XZ7ubi",
        "outputId": "4c0390bd-774d-4237-9f4a-c9166a401222"
      },
      "execution_count": 6,
      "outputs": [
        {
          "output_type": "stream",
          "name": "stdout",
          "text": [
            "30\n",
            "10\n",
            "2.0\n",
            "0\n",
            "2\n",
            "10240000000000\n"
          ]
        }
      ]
    },
    {
      "cell_type": "code",
      "source": [
        "a = 10\n",
        "a +=20 # as a = a + 20\n",
        "a -=2  # as a = a - 2\n",
        "a *=10 # as a = a * 10"
      ],
      "metadata": {
        "id": "R57rPgel9Y31"
      },
      "execution_count": null,
      "outputs": []
    },
    {
      "cell_type": "markdown",
      "source": [
        "**Comparison operations**"
      ],
      "metadata": {
        "id": "qAisZzd-9zMR"
      }
    },
    {
      "cell_type": "code",
      "source": [
        " print(a == b)\n",
        " print( a> b)\n",
        " print(a<b)\n",
        " print(a>=b)\n",
        " "
      ],
      "metadata": {
        "colab": {
          "base_uri": "https://localhost:8080/"
        },
        "id": "Du4_RZBp95TY",
        "outputId": "07386b6e-263f-4845-a7d1-c7004be3d087"
      },
      "execution_count": 7,
      "outputs": [
        {
          "output_type": "stream",
          "name": "stdout",
          "text": [
            "False\n",
            "True\n",
            "False\n",
            "True\n"
          ]
        }
      ]
    }
  ]
}