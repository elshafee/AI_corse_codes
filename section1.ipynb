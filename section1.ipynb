{
  "nbformat": 4,
  "nbformat_minor": 0,
  "metadata": {
    "colab": {
      "provenance": [],
      "authorship_tag": "ABX9TyOSEydyIHCezgyy5XsHkqAq",
      "include_colab_link": true
    },
    "kernelspec": {
      "name": "python3",
      "display_name": "Python 3"
    },
    "language_info": {
      "name": "python"
    },
    "accelerator": "TPU",
    "gpuClass": "standard"
  },
  "cells": [
    {
      "cell_type": "markdown",
      "metadata": {
        "id": "view-in-github",
        "colab_type": "text"
      },
      "source": [
        "<a href=\"https://colab.research.google.com/github/elshafee/AI_corse_codes/blob/main/section1.ipynb\" target=\"_parent\"><img src=\"https://colab.research.google.com/assets/colab-badge.svg\" alt=\"Open In Colab\"/></a>"
      ]
    },
    {
      "cell_type": "markdown",
      "source": [
        "**Introduction to python**\n"
      ],
      "metadata": {
        "id": "EtNbB92t56Gc"
      }
    },
    {
      "cell_type": "code",
      "execution_count": 1,
      "metadata": {
        "colab": {
          "base_uri": "https://localhost:8080/"
        },
        "id": "AHsi_bME5LTB",
        "outputId": "2f574203-6fe8-449f-e0d9-69caeca7f09e"
      },
      "outputs": [
        {
          "output_type": "stream",
          "name": "stdout",
          "text": [
            "4\n"
          ]
        }
      ],
      "source": [
        "# print is a function to get the output in terminal\n",
        "a =  4\n",
        "print(a) "
      ]
    },
    {
      "cell_type": "code",
      "source": [
        "# type() is a function to know what's the variable data type\n",
        "print(type(a))"
      ],
      "metadata": {
        "colab": {
          "base_uri": "https://localhost:8080/"
        },
        "id": "uXIV1oql5v9U",
        "outputId": "822f5c1a-ac2e-42e6-9c20-2f24df306394"
      },
      "execution_count": 2,
      "outputs": [
        {
          "output_type": "stream",
          "name": "stdout",
          "text": [
            "<class 'int'>\n"
          ]
        }
      ]
    },
    {
      "cell_type": "code",
      "source": [
        "x = \"text\"\n",
        "# python is case sensitive "
      ],
      "metadata": {
        "id": "YRUwOvZi6J6U"
      },
      "execution_count": 3,
      "outputs": []
    },
    {
      "cell_type": "code",
      "source": [
        "x,y,z = 10,20,30\n",
        "print(x,y,z)"
      ],
      "metadata": {
        "colab": {
          "base_uri": "https://localhost:8080/"
        },
        "id": "aR2v-xKu6f2u",
        "outputId": "1f48cf3f-ca66-4ffc-ac64-629127a24379"
      },
      "execution_count": 4,
      "outputs": [
        {
          "output_type": "stream",
          "name": "stdout",
          "text": [
            "10 20 30\n"
          ]
        }
      ]
    },
    {
      "cell_type": "markdown",
      "source": [
        "Data Types"
      ],
      "metadata": {
        "id": "dLzSNlL_7ldr"
      }
    },
    {
      "cell_type": "code",
      "source": [
        "# string -> str\n",
        "# integer -> int\n",
        "# Float\n",
        "# boolean -> bool\n",
        "# Complex  'for imaginary and real parts'.         x = 3 +5j\n",
        "# List\n",
        "# Tuple\n",
        "# Set\n",
        "# Dictionary-> dict"
      ],
      "metadata": {
        "id": "aL5XMhnx7I9B"
      },
      "execution_count": null,
      "outputs": []
    },
    {
      "cell_type": "code",
      "source": [],
      "metadata": {
        "id": "OYxda4XZ7ubi"
      },
      "execution_count": null,
      "outputs": []
    }
  ]
}